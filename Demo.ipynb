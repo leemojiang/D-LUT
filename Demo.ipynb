{
 "cells": [
  {
   "cell_type": "markdown",
   "metadata": {},
   "source": [
    "D-LUT Demo"
   ]
  },
  {
   "cell_type": "code",
   "execution_count": null,
   "metadata": {},
   "outputs": [],
   "source": [
    "# Load necessary modules and set working directory\n",
    "%load_ext autoreload\n",
    "%autoreload 2\n",
    "\n",
    "import torch\n",
    "# device = torch.device(\"cuda:2\")\n",
    "import os\n",
    "import argparse\n",
    "import yaml\n",
    "import codebase as cb\n",
    "from codebase.Exp2Runner import Exp2Runner\n"
   ]
  },
  {
   "cell_type": "code",
   "execution_count": 18,
   "metadata": {},
   "outputs": [],
   "source": [
    "# Configuration settings\n",
    "config_string = \"\"\"\n",
    "## Basic config\n",
    "seed: 12213\n",
    "root_dir: ./Log\n",
    "\n",
    "## Model settings\n",
    "model_type: \"Energy\"\n",
    "swish: \"True\"\n",
    "\n",
    "## Training settings\n",
    "train_epochs: 15\n",
    "save_epoch: ~\n",
    "save_model_flag: True\n",
    "batch_size: 128\n",
    "learning_rate: 0.001\n",
    "sigma: 0.005\n",
    "\n",
    "## Data Generation settings\n",
    "style_dir: ./Imgs/style/img0.jpg\n",
    "style_shape: \n",
    "- 400\n",
    "- 300\n",
    "add_uniform: False\n",
    "uniform_percentage: 0.05\n",
    "\n",
    "## Langevin settings\n",
    "L_steps: 40\n",
    "eps: 0.0002\n",
    "\n",
    "## Content settings\n",
    "content_dir: ./Imgs/content\n",
    "content_shape:\n",
    "- 300\n",
    "- 400\n",
    "\n",
    "## LUT settings\n",
    "lut_dim: 15\n",
    "## N \n",
    "lut_sample: 50\n",
    "\n",
    "## Eval and Visualization settings\n",
    "model_dir: ~\n",
    "vis_dim: 20\n",
    "\"\"\"\n",
    "\n",
    "args = yaml.load(config_string,Loader=yaml.FullLoader)\n",
    "args=  cb.utils.dict2namespace(args)"
   ]
  },
  {
   "cell_type": "code",
   "execution_count": null,
   "metadata": {},
   "outputs": [],
   "source": [
    "# Training\n",
    "runner = Exp2Runner(args)\n",
    "runner.train()\n",
    "print(f\"Finish Training\")"
   ]
  },
  {
   "cell_type": "code",
   "execution_count": null,
   "metadata": {},
   "outputs": [],
   "source": [
    "# Eval\n",
    "args.model_dir = './Log/models/Img0/model_15_0.005.pth'\n",
    "eval_runner = Exp2Runner(args)\n",
    "eval_runner.device = device\n",
    "eval_runner.eval()\n",
    "# \"This code will generate three types of images: direct Langevin sampling on the image, Langevin sampling on the LUT, and color transfer using the sampled LUT.\"\n",
    "eval_runner.visualization()\n",
    "eval_runner.save_config()\n",
    "# Use \"tensorboard --logdir=./Log\" to view result"
   ]
  },
  {
   "cell_type": "code",
   "execution_count": null,
   "metadata": {},
   "outputs": [],
   "source": [
    "# Other Visualization functions\n",
    "eval_runner.show_style()\n",
    "eval_runner.show_score()"
   ]
  },
  {
   "cell_type": "code",
   "execution_count": null,
   "metadata": {},
   "outputs": [],
   "source": [
    "# Play with LUTs \n",
    "from codebase.LUT import save_3dlut_to_file, draw_3d\n",
    "import matplotlib.pyplot as plt\n",
    "lut_list = eval_runner.lut_langevie()\n",
    "\n",
    "\n",
    "for i in range(len(lut_list)):\n",
    "    lut = lut_list[i] # lut [B,dim,dim,dim,3]\n",
    "    mean_lut = lut.mean(dim=0) #[B,dim,dim,dim,3] > [dim,dim,dim,3]\n",
    "    vis_lut = mean_lut.permute(3,0,1,2) # > [3,dim,dim,dim]\n",
    "\n",
    "    lut_name = f\"LUT_{i}\" \n",
    "    #save LUTs to .CUBE\n",
    "    save_3dlut_to_file(vis_lut,\"./LUT\",lut_name)\n",
    "\n",
    "    #View LUTs\n",
    "    fig = plt.figure()\n",
    "    ax = plt.subplot(111, projection='3d')\n",
    "    draw_3d(vis_lut,ax=ax)\n"
   ]
  },
  {
   "cell_type": "code",
   "execution_count": null,
   "metadata": {},
   "outputs": [],
   "source": [
    "# Style Transfer\n",
    "content_list = ['./Imgs/content']\n",
    "savepath =\"./Imgs/result\"\n",
    "lut_list = [lut.to(device) for lut in lut_list]\n",
    "eval_runner.vis_and_save(savepath,content_list,lut_list,content_shape=[-1,-1],sample_step=5)"
   ]
  }
 ],
 "metadata": {
  "kernelspec": {
   "display_name": "NN2",
   "language": "python",
   "name": "python3"
  },
  "language_info": {
   "codemirror_mode": {
    "name": "ipython",
    "version": 3
   },
   "file_extension": ".py",
   "mimetype": "text/x-python",
   "name": "python",
   "nbconvert_exporter": "python",
   "pygments_lexer": "ipython3",
   "version": "3.9.13"
  }
 },
 "nbformat": 4,
 "nbformat_minor": 2
}
